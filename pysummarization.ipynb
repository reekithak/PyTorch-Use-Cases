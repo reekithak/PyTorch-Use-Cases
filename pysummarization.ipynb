{
 "cells": [
  {
   "cell_type": "markdown",
   "metadata": {},
   "source": [
    "Pysummarization model- LSTM (seq-seq)"
   ]
  },
  {
   "cell_type": "code",
   "execution_count": 161,
   "metadata": {},
   "outputs": [],
   "source": [
    "import os\n",
    "try:\n",
    "    os.remove('copy.txt')\n",
    "except Exception as e:\n",
    "    print(e)\n",
    "    print(\"Try Again\")"
   ]
  },
  {
   "cell_type": "code",
   "execution_count": 162,
   "metadata": {},
   "outputs": [],
   "source": [
    "from pysummarization.nlpbase.auto_abstractor import AutoAbstractor\n",
    "from pysummarization.tokenizabledoc.simple_tokenizer import SimpleTokenizer\n",
    "from pysummarization.abstractabledoc.top_n_rank_abstractor import TopNRankAbstractor"
   ]
  },
  {
   "cell_type": "code",
   "execution_count": 163,
   "metadata": {},
   "outputs": [],
   "source": [
    "mylines = []                             # Declare an empty list named mylines.\n",
    "with open ('nlp.txt', 'rt') as myfile: # Open ntwk.txt for reading text data.\n",
    "    for myline in myfile:                # For each line, stored as myline,\n",
    "        mylines.append(myline)           # add its contents to mylines.\n",
    "#print(mylines)"
   ]
  },
  {
   "cell_type": "code",
   "execution_count": 164,
   "metadata": {},
   "outputs": [
    {
     "name": "stdout",
     "output_type": "stream",
     "text": [
      "Enter your word: nlg\n",
      "Recognised 1\n",
      "Recognised 2\n",
      "Recognised 3\n",
      "Recognised 4\n"
     ]
    }
   ],
   "source": [
    "usr_input = input(\"Enter your word: \")\n",
    "file = open(\"copy.txt\", \"w\")     #new extracted file will seve in copy.txt file\n",
    "iter_= 1\n",
    "for i in mylines:\n",
    "     if usr_input in i.lower():\n",
    "        file.write(i) \n",
    "        print(\"Recognised \"+str(iter_))\n",
    "        iter_+=1\n",
    "file.close()  "
   ]
  },
  {
   "cell_type": "code",
   "execution_count": 165,
   "metadata": {},
   "outputs": [],
   "source": [
    "new=[]\n",
    "with open ('copy.txt', 'rt') as txtfile: \n",
    "    for line in txtfile:               \n",
    "        new.append(line)"
   ]
  },
  {
   "cell_type": "code",
   "execution_count": 166,
   "metadata": {},
   "outputs": [],
   "source": [
    "txt = ''.join(str(i) for i in new)"
   ]
  },
  {
   "cell_type": "code",
   "execution_count": 167,
   "metadata": {},
   "outputs": [
    {
     "data": {
      "text/plain": [
       "'Natural-language generation (NLG) is a software process that transforms structured data into natural language. It can be used to produce long form content for organizations to automate custom reports, as well as produce custom content for a web or mobile application. It can also be used to generate short blurbs of text in interactive conversations (a chatbot) which might even be read out by a text-to-speech system.\\nAutomated NLG can be compared to the process humans use when they turn ideas into writing or speech. Psycholinguists prefer the term language production for this process, which can also be described in mathematical terms, or modeled in a computer for psychological research. NLG systems can also be compared to translators of artificial computer languages, such as decompilers or transpilers, which also produce human-readable code generated from an intermediate representation. Human languages tend to be considerably more complex and allow for much more ambiguity and variety of expression than programming languages, which makes NLG more challenging.\\nNLG may be viewed as the opposite of natural-language understanding: whereas in natural-language understanding, the system needs to disambiguate the input sentence to produce the machine representation language, in NLG the system needs to make decisions about how to put a concept into words. The practical considerations in building NLU vs. NLG systems are not symmetrical. NLU needs to deal with ambiguous or erroneous user input, whereas the ideas the system wants to express through NLG are generally known precisely. NLG needs to choose a specific, self-consistent textual representation from many potential representations, whereas NLU generally tries to produce a single, normalized representation of the idea expressed.[1]\\nNLG has existed for a long time[when?] but commercial NLG technology has only recently[when?] become widely available. NLG techniques range from simple template-based systems like a mail merge that generates form letters, to systems that have a complex understanding of human grammar. NLG can also be accomplished by training a statistical model using machine learning, typically on a large corpus of human-written texts.[2]'"
      ]
     },
     "execution_count": 167,
     "metadata": {},
     "output_type": "execute_result"
    }
   ],
   "source": [
    "txt"
   ]
  },
  {
   "cell_type": "code",
   "execution_count": 168,
   "metadata": {},
   "outputs": [],
   "source": [
    "auto_ab = AutoAbstractor()\n",
    "auto_ab.tokenizable_doc = SimpleTokenizer()\n",
    "auto_ab.delimiter_list = [\".\", \"\\n\"]\n",
    "abstractable_doc = TopNRankAbstractor()\n",
    "result_dict = auto_ab.summarize(txt, abstractable_doc)\n",
    "restxt = str(result_dict['summarize_result'])\n",
    "try:\n",
    "    restxt = restxt.replace('[','') ; restxt = restxt.replace(']','') ; restxt = restxt.replace('\\\\n','') ; restxt = restxt.replace(\"'\",'')\n",
    "except:\n",
    "    pass"
   ]
  },
  {
   "cell_type": "code",
   "execution_count": 169,
   "metadata": {},
   "outputs": [
    {
     "data": {
      "text/plain": [
       "'Natural-language generation (NLG) is a software process that transforms structured data into natural language.  It can be used to produce long form content for organizations to automate custom reports as well as produce custom content for a web or mobile application.  It can also be used to generate short blurbs of text in interactive conversations (a chatbot) which might even be read out by a text-to-speech system. Automated NLG can be compared to the process humans use when they turn ideas into writing or speech.  Psycholinguists prefer the term language production for this process which can also be described in mathematical terms or modeled in a computer for psychological research.  NLG systems can also be compared to translators of artificial computer languages such as decompilers or transpilers which also produce human-readable code generated from an intermediate representation.  Human languages tend to be considerably more complex and allow for much more ambiguity and variety of expression than programming languages which makes NLG more challenging.  NLG systems are not symmetrical.  NLG needs to choose a specific self-consistent textual representation from many potential representations whereas NLU generally tries to produce a single normalized representation of the idea expressed. NLG has existed for a long timewhen? but commercial NLG technology has only recentlywhen? become widely available..'"
      ]
     },
     "execution_count": 169,
     "metadata": {},
     "output_type": "execute_result"
    }
   ],
   "source": [
    "summ = [str(x) for x in restxt.split('.')]\n",
    "msumm=[]\n",
    "for l in summ:\n",
    "    l = l.replace(',',''); #l =l.replace(\" \",\"\")\n",
    "    \n",
    "    msumm.append(l)\n",
    "finstr = '.'.join(str(i) for i in msumm) + '.'\n",
    "finstr"
   ]
  },
  {
   "cell_type": "code",
   "execution_count": 152,
   "metadata": {},
   "outputs": [],
   "source": []
  },
  {
   "cell_type": "code",
   "execution_count": 156,
   "metadata": {},
   "outputs": [],
   "source": []
  },
  {
   "cell_type": "code",
   "execution_count": null,
   "metadata": {},
   "outputs": [],
   "source": []
  },
  {
   "cell_type": "code",
   "execution_count": 79,
   "metadata": {},
   "outputs": [],
   "source": []
  },
  {
   "cell_type": "code",
   "execution_count": 87,
   "metadata": {},
   "outputs": [],
   "source": []
  },
  {
   "cell_type": "code",
   "execution_count": null,
   "metadata": {},
   "outputs": [],
   "source": []
  }
 ],
 "metadata": {
  "kernelspec": {
   "display_name": "Python 3",
   "language": "python",
   "name": "python3"
  },
  "language_info": {
   "codemirror_mode": {
    "name": "ipython",
    "version": 3
   },
   "file_extension": ".py",
   "mimetype": "text/x-python",
   "name": "python",
   "nbconvert_exporter": "python",
   "pygments_lexer": "ipython3",
   "version": "3.7.7"
  }
 },
 "nbformat": 4,
 "nbformat_minor": 2
}
